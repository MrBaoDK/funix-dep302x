{
  "cells": [
    {
      "cell_type": "markdown",
      "metadata": {
        "id": "KTKuhlEflwFx"
      },
      "source": [
        "<h1>Giới thiệu về Python Pandas</h1>"
      ]
    },
    {
      "cell_type": "markdown",
      "metadata": {
        "id": "SOutCo2SlwFx"
      },
      "source": [
        "<p><strong>Chào mừng!</strong> Notebook này sẽ hướng dẫn bạn cách sử dụng<code>Pandas</code> trong Ngôn ngữ Lập trình Python. Sau lab này, bạn sẽ biết cách sử dụng gói <code>Pandas</code>  để xem và truy cập dữ liệu.</p>"
      ]
    },
    {
      "cell_type": "markdown",
      "metadata": {
        "id": "JmuHMkS1lwFy"
      },
      "source": [
        "##<h2>Mục lục</h2>\n",
        "<div class=\"alert alert-block alert-info\" style=\"margin-top: 20px\">\n",
        "    <ul>\n",
        "        <li><a href=\"dataset\">Về tập dữ liệu</a></li>\n",
        "        <li><a href=\"pandas\">Giới thiệu về <code>Pandas</code></a></li>\n",
        "        <li><a href=\"data\">Xem và truy cập dữ liệu</a></li>\n",
        "        <li><a href=\"quiz\">Quiz về DataFrame</a></li>\n",
        "    </ul>\n",
        "    <p>\n",
        "        Thời lượng ước tính: <strong>15 phút</strong>\n",
        "    </p>\n",
        "</div>\n",
        "\n",
        "<hr>"
      ]
    },
    {
      "cell_type": "markdown",
      "metadata": {
        "id": "vKEYwcS7lwFy"
      },
      "source": [
        "##<h2 id=\"dataset\">Về tập dữ liệu</h2>"
      ]
    },
    {
      "cell_type": "markdown",
      "metadata": {
        "id": "aYUHTV6BlwFy"
      },
      "source": [
        "Trong bảng, thông tin mỗi bộ phim nằm trong một hàng và các cột:\n",
        "\n",
        "<ul>\n",
        "    <li><b>artist</b>: Tên nghệ sĩ</li>\n",
        "    <li><b>album</b>: Tên album</li>\n",
        "    <li><b>released_year</b>: Năm phát hành album</li>\n",
        "    <li><b>length_min_sec</b>: Độ dài album (giờ, phút, giây)</li>\n",
        "    <li><b>genre</b>: Thể loại album</li>\n",
        "    <li><b>music_recording_sales_millions</b>: Doanh thu đĩa nhạc (triệu USD) trên <a href=\"http://www.song-database.com/\">[SONG://DATABASE]</a></li>\n",
        "    <li><b>claimed_sales_millions</b>: Doanh số đã tuyên bố của album (triệu USD) trên <a href=\"http://www.song-database.com/\">[SONG://DATABASE]</a></li>\n",
        "    <li><b>date_released</b>: Ngày phát hành album</li>\n",
        "    <li><b>soundtrack</b>: Cho biết album có phải là movie soundtrack (Y - Có) hay không (N - Không)</li>\n",
        "    <li><b>rating_of_friends</b>: Cho biết xếp hạng từ bạn bè từ 1 tới 10</li>\n",
        "</ul>\n",
        "\n",
        "Có thể xem tập dữ liệu bên dưới:\n",
        "\n",
        "<font size=\"1\">\n",
        "<table font-size:xx-small style=\"width:25%\">\n",
        "  <tr>\n",
        "    <th>Artist</th>\n",
        "    <th>Album</th>\n",
        "    <th>Released</th>\n",
        "    <th>Length</th>\n",
        "    <th>Genre</th>\n",
        "    <th>Music recording sales (millions)</th>\n",
        "    <th>Claimed sales (millions)</th>\n",
        "    <th>Released</th>\n",
        "    <th>Soundtrack</th>\n",
        "    <th>Rating (friends)</th>\n",
        "  </tr>\n",
        "  <tr>\n",
        "    <td>Michael Jackson</td>\n",
        "    <td>Thriller</td>\n",
        "    <td>1982</td>\n",
        "    <td>00:42:19</td>\n",
        "    <td>Pop, rock, R&B</td>\n",
        "    <td>46</td>\n",
        "    <td>65</td>\n",
        "    <td>30-Nov-82</td>\n",
        "    <td></td>\n",
        "    <td>10.0</td>\n",
        "  </tr>\n",
        "  <tr>\n",
        "    <td>AC/DC</td>\n",
        "    <td>Back in Black</td>\n",
        "    <td>1980</td>\n",
        "    <td>00:42:11</td>\n",
        "    <td>Hard rock</td>\n",
        "    <td>26.1</td>\n",
        "    <td>50</td>\n",
        "    <td>25-Jul-80</td>\n",
        "    <td></td>\n",
        "    <td>8.5</td>\n",
        "  </tr>\n",
        "    <tr>\n",
        "    <td>Pink Floyd</td>\n",
        "    <td>The Dark Side of the Moon</td>\n",
        "    <td>1973</td>\n",
        "    <td>00:42:49</td>\n",
        "    <td>Progressive rock</td>\n",
        "    <td>24.2</td>\n",
        "    <td>45</td>\n",
        "    <td>01-Mar-73</td>\n",
        "    <td></td>\n",
        "    <td>9.5</td>\n",
        "  </tr>\n",
        "    <tr>\n",
        "    <td>Whitney Houston</td>\n",
        "    <td>The Bodyguard</td>\n",
        "    <td>1992</td>\n",
        "    <td>00:57:44</td>\n",
        "    <td>Soundtrack/R&B, soul, pop</td>\n",
        "    <td>26.1</td>\n",
        "    <td>50</td>\n",
        "    <td>25-Jul-80</td>\n",
        "    <td>Y</td>\n",
        "    <td>7.0</td>\n",
        "  </tr>\n",
        "    <tr>\n",
        "    <td>Meat Loaf</td>\n",
        "    <td>Bat Out of Hell</td>\n",
        "    <td>1977</td>\n",
        "    <td>00:46:33</td>\n",
        "    <td>Hard rock, progressive rock</td>\n",
        "    <td>20.6</td>\n",
        "    <td>43</td>\n",
        "    <td>21-Oct-77</td>\n",
        "    <td></td>\n",
        "    <td>7.0</td>\n",
        "  </tr>\n",
        "    <tr>\n",
        "    <td>Eagles</td>\n",
        "    <td>Their Greatest Hits (1971-1975)</td>\n",
        "    <td>1976</td>\n",
        "    <td>00:43:08</td>\n",
        "    <td>Rock, soft rock, folk rock</td>\n",
        "    <td>32.2</td>\n",
        "    <td>42</td>\n",
        "    <td>17-Feb-76</td>\n",
        "    <td></td>\n",
        "    <td>9.5</td>\n",
        "  </tr>\n",
        "    <tr>\n",
        "    <td>Bee Gees</td>\n",
        "    <td>Saturday Night Fever</td>\n",
        "    <td>1977</td>\n",
        "    <td>1:15:54</td>\n",
        "    <td>Disco</td>\n",
        "    <td>20.6</td>\n",
        "    <td>40</td>\n",
        "    <td>15-Nov-77</td>\n",
        "    <td>Y</td>\n",
        "    <td>9.0</td>\n",
        "  </tr>\n",
        "    <tr>\n",
        "    <td>Fleetwood Mac</td>\n",
        "    <td>Rumours</td>\n",
        "    <td>1977</td>\n",
        "    <td>00:40:01</td>\n",
        "    <td>Soft rock</td>\n",
        "    <td>27.9</td>\n",
        "    <td>40</td>\n",
        "    <td>04-Feb-77</td>\n",
        "    <td></td>\n",
        "    <td>9.5</td>\n",
        "  </tr>\n",
        "</table></font>"
      ]
    },
    {
      "cell_type": "markdown",
      "metadata": {
        "id": "lF0jSHwslwF0"
      },
      "source": [
        "<hr>"
      ]
    },
    {
      "cell_type": "markdown",
      "metadata": {
        "id": "5ZOKz22plwF1"
      },
      "source": [
        "##<h2 id=\"pandas\">Giới thiệu về <code>Pandas</code></h2>"
      ]
    },
    {
      "cell_type": "code",
      "execution_count": 5,
      "metadata": {
        "id": "CgAoMlEZlwF2"
      },
      "outputs": [
        {
          "name": "stdout",
          "output_type": "stream",
          "text": [
            "Collecting xlrd\n",
            "  Downloading xlrd-2.0.1-py2.py3-none-any.whl (96 kB)\n",
            "     ---------------------------------------- 0.0/96.5 kB ? eta -:--:--\n",
            "     ---------------------------------------- 0.0/96.5 kB ? eta -:--:--\n",
            "     ---- ----------------------------------- 10.2/96.5 kB ? eta -:--:--\n",
            "     ---- ----------------------------------- 10.2/96.5 kB ? eta -:--:--\n",
            "     ---- ----------------------------------- 10.2/96.5 kB ? eta -:--:--\n",
            "     ---- ----------------------------------- 10.2/96.5 kB ? eta -:--:--\n",
            "     ------------------------ ------------- 61.4/96.5 kB 297.7 kB/s eta 0:00:01\n",
            "     ------------------------ ------------- 61.4/96.5 kB 297.7 kB/s eta 0:00:01\n",
            "     ------------------------ ------------- 61.4/96.5 kB 297.7 kB/s eta 0:00:01\n",
            "     ------------------------ ------------- 61.4/96.5 kB 297.7 kB/s eta 0:00:01\n",
            "     ------------------------ ------------- 61.4/96.5 kB 297.7 kB/s eta 0:00:01\n",
            "     ------------------------ ------------- 61.4/96.5 kB 297.7 kB/s eta 0:00:01\n",
            "     -------------------------------- ----- 81.9/96.5 kB 169.9 kB/s eta 0:00:01\n",
            "     -------------------------------- ----- 81.9/96.5 kB 169.9 kB/s eta 0:00:01\n",
            "     ------------------------------------ - 92.2/96.5 kB 163.8 kB/s eta 0:00:01\n",
            "     -------------------------------------- 96.5/96.5 kB 157.8 kB/s eta 0:00:00\n",
            "Installing collected packages: xlrd\n",
            "Successfully installed xlrd-2.0.1\n"
          ]
        },
        {
          "name": "stderr",
          "output_type": "stream",
          "text": [
            "WARNING: Ignoring invalid distribution ~ython-ldap (C:\\Users\\dangk\\AppData\\Local\\Python\\python311\\Lib\\site-packages)\n",
            "DEPRECATION: Loading egg at c:\\users\\dangk\\appdata\\local\\python\\python311\\lib\\site-packages\\funcparserlib-1.0.1-py3.11.egg is deprecated. pip 24.3 will enforce this behaviour change. A possible replacement is to use pip for package installation.. Discussion can be found at https://github.com/pypa/pip/issues/12330\n",
            "DEPRECATION: Loading egg at c:\\users\\dangk\\appdata\\local\\python\\python311\\lib\\site-packages\\pillow-10.1.0-py3.11-win-amd64.egg is deprecated. pip 24.3 will enforce this behaviour change. A possible replacement is to use pip for package installation.. Discussion can be found at https://github.com/pypa/pip/issues/12330\n",
            "WARNING: Ignoring invalid distribution ~ython-ldap (C:\\Users\\dangk\\AppData\\Local\\Python\\python311\\Lib\\site-packages)\n"
          ]
        }
      ],
      "source": [
        "# Dependency cần để cài file\n",
        "\n",
        "!pip install xlrd"
      ]
    },
    {
      "cell_type": "code",
      "execution_count": 4,
      "metadata": {
        "collapsed": true,
        "id": "9zaX0b1MlwF3"
      },
      "outputs": [],
      "source": [
        "# Import thư viện cần thiết\n",
        "\n",
        "import pandas as pd"
      ]
    },
    {
      "cell_type": "markdown",
      "metadata": {
        "id": "_WnSbGsQlwF4"
      },
      "source": [
        "Sau lệnh import, giờ chúng ta có quyền truy cập vào một lượng lớn các lớp và hàm có sẵn. Giả sử thư viện đã được cài đặt; trong môi trường lab của chúng ta, tất cả các thư viện cần thiết đã được cài đặt. Pandas cho phép bạn làm việc với dữ liệu qua dataframe. Hãy thực hiện quá trình để chuyển từ file các giá trị được phân tách bằng dấu phẩy (<b>.csv</b>) sang dataframe. Biến <code>csv_path</code> lưu trữ đường dẫn của <b>.csv</b>, được sử dụng làm đối số cho hàm <code> read_csv</code>. Kết quả được lưu trữ trong đối tượng <code> df</code>, đây là dạng rút gọn phổ biến được sử dụng cho một biến tham chiếu đến Pandas dataframe."
      ]
    },
    {
      "cell_type": "code",
      "execution_count": 10,
      "metadata": {
        "id": "3m9lhj31lwF4",
        "scrolled": true
      },
      "outputs": [],
      "source": [
        "# Đọc dữ liệu từ file CSV\n",
        "\n",
        "csv_path = 'https://s3-api.us-geo.objectstorage.softlayer.net/cf-courses-data/CognitiveClass/PY0101EN/Chapter%204/Datasets/TopSellingAlbums.csv'\n",
        "df = pd.read_csv(csv_path)"
      ]
    },
    {
      "cell_type": "markdown",
      "metadata": {
        "id": "uxNS_aqKlwF4"
      },
      "source": [
        "Chúng ta có thể sử dụng phương thức <code> head()</code> để kiểm tra 5 hàng đầu của dataframe:"
      ]
    },
    {
      "cell_type": "code",
      "execution_count": 7,
      "metadata": {
        "id": "ApJs4-2XlwF5"
      },
      "outputs": [
        {
          "data": {
            "text/html": [
              "<div>\n",
              "<style scoped>\n",
              "    .dataframe tbody tr th:only-of-type {\n",
              "        vertical-align: middle;\n",
              "    }\n",
              "\n",
              "    .dataframe tbody tr th {\n",
              "        vertical-align: top;\n",
              "    }\n",
              "\n",
              "    .dataframe thead th {\n",
              "        text-align: right;\n",
              "    }\n",
              "</style>\n",
              "<table border=\"1\" class=\"dataframe\">\n",
              "  <thead>\n",
              "    <tr style=\"text-align: right;\">\n",
              "      <th></th>\n",
              "      <th>Artist</th>\n",
              "      <th>Album</th>\n",
              "      <th>Released</th>\n",
              "      <th>Length</th>\n",
              "      <th>Genre</th>\n",
              "      <th>Music Recording Sales (millions)</th>\n",
              "      <th>Claimed Sales (millions)</th>\n",
              "      <th>Released.1</th>\n",
              "      <th>Soundtrack</th>\n",
              "      <th>Rating</th>\n",
              "    </tr>\n",
              "  </thead>\n",
              "  <tbody>\n",
              "    <tr>\n",
              "      <th>0</th>\n",
              "      <td>Michael Jackson</td>\n",
              "      <td>Thriller</td>\n",
              "      <td>1982</td>\n",
              "      <td>0:42:19</td>\n",
              "      <td>pop, rock, R&amp;B</td>\n",
              "      <td>46.0</td>\n",
              "      <td>65</td>\n",
              "      <td>30-Nov-82</td>\n",
              "      <td>NaN</td>\n",
              "      <td>10.0</td>\n",
              "    </tr>\n",
              "    <tr>\n",
              "      <th>1</th>\n",
              "      <td>AC/DC</td>\n",
              "      <td>Back in Black</td>\n",
              "      <td>1980</td>\n",
              "      <td>0:42:11</td>\n",
              "      <td>hard rock</td>\n",
              "      <td>26.1</td>\n",
              "      <td>50</td>\n",
              "      <td>25-Jul-80</td>\n",
              "      <td>NaN</td>\n",
              "      <td>9.5</td>\n",
              "    </tr>\n",
              "    <tr>\n",
              "      <th>2</th>\n",
              "      <td>Pink Floyd</td>\n",
              "      <td>The Dark Side of the Moon</td>\n",
              "      <td>1973</td>\n",
              "      <td>0:42:49</td>\n",
              "      <td>progressive rock</td>\n",
              "      <td>24.2</td>\n",
              "      <td>45</td>\n",
              "      <td>01-Mar-73</td>\n",
              "      <td>NaN</td>\n",
              "      <td>9.0</td>\n",
              "    </tr>\n",
              "    <tr>\n",
              "      <th>3</th>\n",
              "      <td>Whitney Houston</td>\n",
              "      <td>The Bodyguard</td>\n",
              "      <td>1992</td>\n",
              "      <td>0:57:44</td>\n",
              "      <td>R&amp;B, soul, pop</td>\n",
              "      <td>27.4</td>\n",
              "      <td>44</td>\n",
              "      <td>17-Nov-92</td>\n",
              "      <td>Y</td>\n",
              "      <td>8.5</td>\n",
              "    </tr>\n",
              "    <tr>\n",
              "      <th>4</th>\n",
              "      <td>Meat Loaf</td>\n",
              "      <td>Bat Out of Hell</td>\n",
              "      <td>1977</td>\n",
              "      <td>0:46:33</td>\n",
              "      <td>hard rock, progressive rock</td>\n",
              "      <td>20.6</td>\n",
              "      <td>43</td>\n",
              "      <td>21-Oct-77</td>\n",
              "      <td>NaN</td>\n",
              "      <td>8.0</td>\n",
              "    </tr>\n",
              "  </tbody>\n",
              "</table>\n",
              "</div>"
            ],
            "text/plain": [
              "            Artist                      Album  Released   Length  \\\n",
              "0  Michael Jackson                   Thriller      1982  0:42:19   \n",
              "1            AC/DC              Back in Black      1980  0:42:11   \n",
              "2       Pink Floyd  The Dark Side of the Moon      1973  0:42:49   \n",
              "3  Whitney Houston              The Bodyguard      1992  0:57:44   \n",
              "4        Meat Loaf            Bat Out of Hell      1977  0:46:33   \n",
              "\n",
              "                         Genre  Music Recording Sales (millions)  \\\n",
              "0               pop, rock, R&B                              46.0   \n",
              "1                    hard rock                              26.1   \n",
              "2             progressive rock                              24.2   \n",
              "3               R&B, soul, pop                              27.4   \n",
              "4  hard rock, progressive rock                              20.6   \n",
              "\n",
              "   Claimed Sales (millions) Released.1 Soundtrack  Rating  \n",
              "0                        65  30-Nov-82        NaN    10.0  \n",
              "1                        50  25-Jul-80        NaN     9.5  \n",
              "2                        45  01-Mar-73        NaN     9.0  \n",
              "3                        44  17-Nov-92          Y     8.5  \n",
              "4                        43  21-Oct-77        NaN     8.0  "
            ]
          },
          "execution_count": 7,
          "metadata": {},
          "output_type": "execute_result"
        }
      ],
      "source": [
        "# In 5 hàng đầu của dataframe\n",
        "\n",
        "df.head()"
      ]
    },
    {
      "cell_type": "markdown",
      "metadata": {
        "id": "G8x84PT2lwF5"
      },
      "source": [
        "Chúng ta sử dụng đường dẫn của file excel và hàm <code>read_excel</code>. Kết quả được một dataframe như trước:"
      ]
    },
    {
      "cell_type": "code",
      "execution_count": 9,
      "metadata": {
        "id": "mUgaRrNVlwF5"
      },
      "outputs": [
        {
          "ename": "HTTPError",
          "evalue": "HTTP Error 403: Forbidden",
          "output_type": "error",
          "traceback": [
            "\u001b[1;31m---------------------------------------------------------------------------\u001b[0m",
            "\u001b[1;31mHTTPError\u001b[0m                                 Traceback (most recent call last)",
            "\u001b[1;32mc:\\alternate\\my-solution\\DEP302x_01-A_VN\\Lab_9_3_LoadData.ipynb Cell 15\u001b[0m line \u001b[0;36m5\n\u001b[0;32m      <a href='vscode-notebook-cell:/c%3A/alternate/my-solution/DEP302x_01-A_VN/Lab_9_3_LoadData.ipynb#X20sZmlsZQ%3D%3D?line=0'>1</a>\u001b[0m \u001b[39m# Đọc dữ liệu từ file Excel và in ra 5 hàng đầu\u001b[39;00m\n\u001b[0;32m      <a href='vscode-notebook-cell:/c%3A/alternate/my-solution/DEP302x_01-A_VN/Lab_9_3_LoadData.ipynb#X20sZmlsZQ%3D%3D?line=2'>3</a>\u001b[0m xlsx_path \u001b[39m=\u001b[39m \u001b[39m'\u001b[39m\u001b[39mhttps://s3-api.us-geo.objectstorage.softlayer.net/cf-courses-data/CognitiveClass/PY0101EN/Chapter\u001b[39m\u001b[39m%\u001b[39m\u001b[39m204/Datasets/TopSellingAlbums.xlsx\u001b[39m\u001b[39m'\u001b[39m\n\u001b[1;32m----> <a href='vscode-notebook-cell:/c%3A/alternate/my-solution/DEP302x_01-A_VN/Lab_9_3_LoadData.ipynb#X20sZmlsZQ%3D%3D?line=4'>5</a>\u001b[0m df \u001b[39m=\u001b[39m pd\u001b[39m.\u001b[39;49mread_excel(xlsx_path)\n\u001b[0;32m      <a href='vscode-notebook-cell:/c%3A/alternate/my-solution/DEP302x_01-A_VN/Lab_9_3_LoadData.ipynb#X20sZmlsZQ%3D%3D?line=5'>6</a>\u001b[0m df\u001b[39m.\u001b[39mhead()\n",
            "File \u001b[1;32mc:\\Users\\dangk\\AppData\\Local\\Python\\python311\\Lib\\site-packages\\pandas\\util\\_decorators.py:211\u001b[0m, in \u001b[0;36mdeprecate_kwarg.<locals>._deprecate_kwarg.<locals>.wrapper\u001b[1;34m(*args, **kwargs)\u001b[0m\n\u001b[0;32m    209\u001b[0m     \u001b[39melse\u001b[39;00m:\n\u001b[0;32m    210\u001b[0m         kwargs[new_arg_name] \u001b[39m=\u001b[39m new_arg_value\n\u001b[1;32m--> 211\u001b[0m \u001b[39mreturn\u001b[39;00m func(\u001b[39m*\u001b[39;49margs, \u001b[39m*\u001b[39;49m\u001b[39m*\u001b[39;49mkwargs)\n",
            "File \u001b[1;32mc:\\Users\\dangk\\AppData\\Local\\Python\\python311\\Lib\\site-packages\\pandas\\util\\_decorators.py:331\u001b[0m, in \u001b[0;36mdeprecate_nonkeyword_arguments.<locals>.decorate.<locals>.wrapper\u001b[1;34m(*args, **kwargs)\u001b[0m\n\u001b[0;32m    325\u001b[0m \u001b[39mif\u001b[39;00m \u001b[39mlen\u001b[39m(args) \u001b[39m>\u001b[39m num_allow_args:\n\u001b[0;32m    326\u001b[0m     warnings\u001b[39m.\u001b[39mwarn(\n\u001b[0;32m    327\u001b[0m         msg\u001b[39m.\u001b[39mformat(arguments\u001b[39m=\u001b[39m_format_argument_list(allow_args)),\n\u001b[0;32m    328\u001b[0m         \u001b[39mFutureWarning\u001b[39;00m,\n\u001b[0;32m    329\u001b[0m         stacklevel\u001b[39m=\u001b[39mfind_stack_level(),\n\u001b[0;32m    330\u001b[0m     )\n\u001b[1;32m--> 331\u001b[0m \u001b[39mreturn\u001b[39;00m func(\u001b[39m*\u001b[39;49margs, \u001b[39m*\u001b[39;49m\u001b[39m*\u001b[39;49mkwargs)\n",
            "File \u001b[1;32mc:\\Users\\dangk\\AppData\\Local\\Python\\python311\\Lib\\site-packages\\pandas\\io\\excel\\_base.py:482\u001b[0m, in \u001b[0;36mread_excel\u001b[1;34m(io, sheet_name, header, names, index_col, usecols, squeeze, dtype, engine, converters, true_values, false_values, skiprows, nrows, na_values, keep_default_na, na_filter, verbose, parse_dates, date_parser, thousands, decimal, comment, skipfooter, convert_float, mangle_dupe_cols, storage_options)\u001b[0m\n\u001b[0;32m    480\u001b[0m \u001b[39mif\u001b[39;00m \u001b[39mnot\u001b[39;00m \u001b[39misinstance\u001b[39m(io, ExcelFile):\n\u001b[0;32m    481\u001b[0m     should_close \u001b[39m=\u001b[39m \u001b[39mTrue\u001b[39;00m\n\u001b[1;32m--> 482\u001b[0m     io \u001b[39m=\u001b[39m ExcelFile(io, storage_options\u001b[39m=\u001b[39;49mstorage_options, engine\u001b[39m=\u001b[39;49mengine)\n\u001b[0;32m    483\u001b[0m \u001b[39melif\u001b[39;00m engine \u001b[39mand\u001b[39;00m engine \u001b[39m!=\u001b[39m io\u001b[39m.\u001b[39mengine:\n\u001b[0;32m    484\u001b[0m     \u001b[39mraise\u001b[39;00m \u001b[39mValueError\u001b[39;00m(\n\u001b[0;32m    485\u001b[0m         \u001b[39m\"\u001b[39m\u001b[39mEngine should not be specified when passing \u001b[39m\u001b[39m\"\u001b[39m\n\u001b[0;32m    486\u001b[0m         \u001b[39m\"\u001b[39m\u001b[39man ExcelFile - ExcelFile already has the engine set\u001b[39m\u001b[39m\"\u001b[39m\n\u001b[0;32m    487\u001b[0m     )\n",
            "File \u001b[1;32mc:\\Users\\dangk\\AppData\\Local\\Python\\python311\\Lib\\site-packages\\pandas\\io\\excel\\_base.py:1652\u001b[0m, in \u001b[0;36mExcelFile.__init__\u001b[1;34m(self, path_or_buffer, engine, storage_options)\u001b[0m\n\u001b[0;32m   1650\u001b[0m     ext \u001b[39m=\u001b[39m \u001b[39m\"\u001b[39m\u001b[39mxls\u001b[39m\u001b[39m\"\u001b[39m\n\u001b[0;32m   1651\u001b[0m \u001b[39melse\u001b[39;00m:\n\u001b[1;32m-> 1652\u001b[0m     ext \u001b[39m=\u001b[39m inspect_excel_format(\n\u001b[0;32m   1653\u001b[0m         content_or_path\u001b[39m=\u001b[39;49mpath_or_buffer, storage_options\u001b[39m=\u001b[39;49mstorage_options\n\u001b[0;32m   1654\u001b[0m     )\n\u001b[0;32m   1655\u001b[0m     \u001b[39mif\u001b[39;00m ext \u001b[39mis\u001b[39;00m \u001b[39mNone\u001b[39;00m:\n\u001b[0;32m   1656\u001b[0m         \u001b[39mraise\u001b[39;00m \u001b[39mValueError\u001b[39;00m(\n\u001b[0;32m   1657\u001b[0m             \u001b[39m\"\u001b[39m\u001b[39mExcel file format cannot be determined, you must specify \u001b[39m\u001b[39m\"\u001b[39m\n\u001b[0;32m   1658\u001b[0m             \u001b[39m\"\u001b[39m\u001b[39man engine manually.\u001b[39m\u001b[39m\"\u001b[39m\n\u001b[0;32m   1659\u001b[0m         )\n",
            "File \u001b[1;32mc:\\Users\\dangk\\AppData\\Local\\Python\\python311\\Lib\\site-packages\\pandas\\io\\excel\\_base.py:1525\u001b[0m, in \u001b[0;36minspect_excel_format\u001b[1;34m(content_or_path, storage_options)\u001b[0m\n\u001b[0;32m   1522\u001b[0m \u001b[39mif\u001b[39;00m \u001b[39misinstance\u001b[39m(content_or_path, \u001b[39mbytes\u001b[39m):\n\u001b[0;32m   1523\u001b[0m     content_or_path \u001b[39m=\u001b[39m BytesIO(content_or_path)\n\u001b[1;32m-> 1525\u001b[0m \u001b[39mwith\u001b[39;00m get_handle(\n\u001b[0;32m   1526\u001b[0m     content_or_path, \u001b[39m\"\u001b[39;49m\u001b[39mrb\u001b[39;49m\u001b[39m\"\u001b[39;49m, storage_options\u001b[39m=\u001b[39;49mstorage_options, is_text\u001b[39m=\u001b[39;49m\u001b[39mFalse\u001b[39;49;00m\n\u001b[0;32m   1527\u001b[0m ) \u001b[39mas\u001b[39;00m handle:\n\u001b[0;32m   1528\u001b[0m     stream \u001b[39m=\u001b[39m handle\u001b[39m.\u001b[39mhandle\n\u001b[0;32m   1529\u001b[0m     stream\u001b[39m.\u001b[39mseek(\u001b[39m0\u001b[39m)\n",
            "File \u001b[1;32mc:\\Users\\dangk\\AppData\\Local\\Python\\python311\\Lib\\site-packages\\pandas\\io\\common.py:713\u001b[0m, in \u001b[0;36mget_handle\u001b[1;34m(path_or_buf, mode, encoding, compression, memory_map, is_text, errors, storage_options)\u001b[0m\n\u001b[0;32m    710\u001b[0m     codecs\u001b[39m.\u001b[39mlookup_error(errors)\n\u001b[0;32m    712\u001b[0m \u001b[39m# open URLs\u001b[39;00m\n\u001b[1;32m--> 713\u001b[0m ioargs \u001b[39m=\u001b[39m _get_filepath_or_buffer(\n\u001b[0;32m    714\u001b[0m     path_or_buf,\n\u001b[0;32m    715\u001b[0m     encoding\u001b[39m=\u001b[39;49mencoding,\n\u001b[0;32m    716\u001b[0m     compression\u001b[39m=\u001b[39;49mcompression,\n\u001b[0;32m    717\u001b[0m     mode\u001b[39m=\u001b[39;49mmode,\n\u001b[0;32m    718\u001b[0m     storage_options\u001b[39m=\u001b[39;49mstorage_options,\n\u001b[0;32m    719\u001b[0m )\n\u001b[0;32m    721\u001b[0m handle \u001b[39m=\u001b[39m ioargs\u001b[39m.\u001b[39mfilepath_or_buffer\n\u001b[0;32m    722\u001b[0m handles: \u001b[39mlist\u001b[39m[BaseBuffer]\n",
            "File \u001b[1;32mc:\\Users\\dangk\\AppData\\Local\\Python\\python311\\Lib\\site-packages\\pandas\\io\\common.py:363\u001b[0m, in \u001b[0;36m_get_filepath_or_buffer\u001b[1;34m(filepath_or_buffer, encoding, compression, mode, storage_options)\u001b[0m\n\u001b[0;32m    361\u001b[0m \u001b[39m# assuming storage_options is to be interpreted as headers\u001b[39;00m\n\u001b[0;32m    362\u001b[0m req_info \u001b[39m=\u001b[39m urllib\u001b[39m.\u001b[39mrequest\u001b[39m.\u001b[39mRequest(filepath_or_buffer, headers\u001b[39m=\u001b[39mstorage_options)\n\u001b[1;32m--> 363\u001b[0m \u001b[39mwith\u001b[39;00m urlopen(req_info) \u001b[39mas\u001b[39;00m req:\n\u001b[0;32m    364\u001b[0m     content_encoding \u001b[39m=\u001b[39m req\u001b[39m.\u001b[39mheaders\u001b[39m.\u001b[39mget(\u001b[39m\"\u001b[39m\u001b[39mContent-Encoding\u001b[39m\u001b[39m\"\u001b[39m, \u001b[39mNone\u001b[39;00m)\n\u001b[0;32m    365\u001b[0m     \u001b[39mif\u001b[39;00m content_encoding \u001b[39m==\u001b[39m \u001b[39m\"\u001b[39m\u001b[39mgzip\u001b[39m\u001b[39m\"\u001b[39m:\n\u001b[0;32m    366\u001b[0m         \u001b[39m# Override compression based on Content-Encoding header\u001b[39;00m\n",
            "File \u001b[1;32mc:\\Users\\dangk\\AppData\\Local\\Python\\python311\\Lib\\site-packages\\pandas\\io\\common.py:265\u001b[0m, in \u001b[0;36murlopen\u001b[1;34m(*args, **kwargs)\u001b[0m\n\u001b[0;32m    259\u001b[0m \u001b[39m\u001b[39m\u001b[39m\"\"\"\u001b[39;00m\n\u001b[0;32m    260\u001b[0m \u001b[39mLazy-import wrapper for stdlib urlopen, as that imports a big chunk of\u001b[39;00m\n\u001b[0;32m    261\u001b[0m \u001b[39mthe stdlib.\u001b[39;00m\n\u001b[0;32m    262\u001b[0m \u001b[39m\"\"\"\u001b[39;00m\n\u001b[0;32m    263\u001b[0m \u001b[39mimport\u001b[39;00m \u001b[39murllib\u001b[39;00m\u001b[39m.\u001b[39;00m\u001b[39mrequest\u001b[39;00m\n\u001b[1;32m--> 265\u001b[0m \u001b[39mreturn\u001b[39;00m urllib\u001b[39m.\u001b[39;49mrequest\u001b[39m.\u001b[39;49murlopen(\u001b[39m*\u001b[39;49margs, \u001b[39m*\u001b[39;49m\u001b[39m*\u001b[39;49mkwargs)\n",
            "File \u001b[1;32murllib\\request.py:216\u001b[0m, in \u001b[0;36murlopen\u001b[1;34m(url, data, timeout, cafile, capath, cadefault, context)\u001b[0m\n",
            "File \u001b[1;32murllib\\request.py:525\u001b[0m, in \u001b[0;36mopen\u001b[1;34m(self, fullurl, data, timeout)\u001b[0m\n",
            "File \u001b[1;32murllib\\request.py:634\u001b[0m, in \u001b[0;36mhttp_response\u001b[1;34m(self, request, response)\u001b[0m\n",
            "File \u001b[1;32murllib\\request.py:557\u001b[0m, in \u001b[0;36merror\u001b[1;34m(self, proto, *args)\u001b[0m\n",
            "File \u001b[1;32murllib\\request.py:496\u001b[0m, in \u001b[0;36m_call_chain\u001b[1;34m(self, chain, kind, meth_name, *args)\u001b[0m\n",
            "File \u001b[1;32murllib\\request.py:749\u001b[0m, in \u001b[0;36mhttp_error_302\u001b[1;34m(self, req, fp, code, msg, headers)\u001b[0m\n",
            "File \u001b[1;32murllib\\request.py:525\u001b[0m, in \u001b[0;36mopen\u001b[1;34m(self, fullurl, data, timeout)\u001b[0m\n",
            "File \u001b[1;32murllib\\request.py:634\u001b[0m, in \u001b[0;36mhttp_response\u001b[1;34m(self, request, response)\u001b[0m\n",
            "File \u001b[1;32murllib\\request.py:557\u001b[0m, in \u001b[0;36merror\u001b[1;34m(self, proto, *args)\u001b[0m\n",
            "File \u001b[1;32murllib\\request.py:496\u001b[0m, in \u001b[0;36m_call_chain\u001b[1;34m(self, chain, kind, meth_name, *args)\u001b[0m\n",
            "File \u001b[1;32murllib\\request.py:749\u001b[0m, in \u001b[0;36mhttp_error_302\u001b[1;34m(self, req, fp, code, msg, headers)\u001b[0m\n",
            "File \u001b[1;32murllib\\request.py:525\u001b[0m, in \u001b[0;36mopen\u001b[1;34m(self, fullurl, data, timeout)\u001b[0m\n",
            "File \u001b[1;32murllib\\request.py:634\u001b[0m, in \u001b[0;36mhttp_response\u001b[1;34m(self, request, response)\u001b[0m\n",
            "File \u001b[1;32murllib\\request.py:563\u001b[0m, in \u001b[0;36merror\u001b[1;34m(self, proto, *args)\u001b[0m\n",
            "File \u001b[1;32murllib\\request.py:496\u001b[0m, in \u001b[0;36m_call_chain\u001b[1;34m(self, chain, kind, meth_name, *args)\u001b[0m\n",
            "File \u001b[1;32murllib\\request.py:643\u001b[0m, in \u001b[0;36mhttp_error_default\u001b[1;34m(self, req, fp, code, msg, hdrs)\u001b[0m\n",
            "\u001b[1;31mHTTPError\u001b[0m: HTTP Error 403: Forbidden"
          ]
        }
      ],
      "source": [
        "# Đọc dữ liệu từ file Excel và in ra 5 hàng đầu\n",
        "\n",
        "xlsx_path = 'https://s3-api.us-geo.objectstorage.softlayer.net/cf-courses-data/CognitiveClass/PY0101EN/Chapter%204/Datasets/TopSellingAlbums.xlsx'\n",
        "\n",
        "df = pd.read_excel(xlsx_path)\n",
        "df.head()"
      ]
    },
    {
      "cell_type": "markdown",
      "metadata": {
        "id": "PwEfsasSlwF6"
      },
      "source": [
        "Chúng ta có thể truy cập cột <b>Length</b> và gán cho nó dataframe <b> x</b> mới:"
      ]
    },
    {
      "cell_type": "code",
      "execution_count": null,
      "metadata": {
        "id": "8JDgkOi9lwF6"
      },
      "outputs": [],
      "source": [
        "# Truy cập cột Length\n",
        "\n",
        "x = df[['Length']]\n",
        "x"
      ]
    },
    {
      "cell_type": "markdown",
      "metadata": {
        "id": "igk-_g36lwF6"
      },
      "source": [
        "Quá trình được hiển thị trong hình:"
      ]
    },
    {
      "cell_type": "markdown",
      "metadata": {
        "id": "qn_f9b1MlwF7"
      },
      "source": [
        "<img src=\"https://s3-api.us-geo.objectstorage.softlayer.net/cf-courses-data/CognitiveClass/PY0101EN/Chapter%204/Images/DataEgOne.png\" width=\"750\" />"
      ]
    },
    {
      "cell_type": "markdown",
      "metadata": {
        "id": "QNfeB_OqlwF7"
      },
      "source": [
        "<hr>"
      ]
    },
    {
      "cell_type": "markdown",
      "metadata": {
        "id": "SVR2hr4_lwF7"
      },
      "source": [
        "##<h2 id=\"data\">Xem và truy cập dữ liệu</h2>"
      ]
    },
    {
      "cell_type": "markdown",
      "metadata": {
        "id": "adHvzeCXlwF7"
      },
      "source": [
        "Bạn cũng có thể lấy một cột dưới dạng một chuỗi. Bạn có thể coi chuỗi Pandas là dataframe 1-D. Chỉ cần sử dụng một dấu ngoặc:"
      ]
    },
    {
      "cell_type": "code",
      "execution_count": null,
      "metadata": {
        "id": "MJG_b9cAlwF8"
      },
      "outputs": [],
      "source": [
        "# Lấy cột dưới dạng chuỗi\n",
        "\n",
        "x = df['Length']\n",
        "x"
      ]
    },
    {
      "cell_type": "markdown",
      "metadata": {
        "id": "b1EOtHmtlwF8"
      },
      "source": [
        "Bạn cũng có thể lấy một cột làm dataframe. Ví dụ: chúng ta có thể chỉ định cột <b>Artist</b>:"
      ]
    },
    {
      "cell_type": "code",
      "execution_count": null,
      "metadata": {
        "id": "PMW1949AlwF8"
      },
      "outputs": [],
      "source": [
        "# Lấy cột làm dataframe\n",
        "\n",
        "x = type(df[['Artist']])\n",
        "x"
      ]
    },
    {
      "cell_type": "markdown",
      "metadata": {
        "id": "LMxIvhIolwF9"
      },
      "source": [
        "Bạn có thể làm điều tương tự cho nhiều cột; chúng ta chỉ đặt tên dataframe, trong trường hợp này là <code> df</code> và tên nhiều tiêu đề cột được đặt trong dấu ngoặc kép. Kết quả được một dataframe mới bao gồm các cột được chỉ định:\n"
      ]
    },
    {
      "cell_type": "code",
      "execution_count": null,
      "metadata": {
        "id": "Pw2MLc8nlwF9"
      },
      "outputs": [],
      "source": [
        "# Truy cập nhiều cột\n",
        "\n",
        "y = df[['Artist','Length','Genre']]\n",
        "y"
      ]
    },
    {
      "cell_type": "markdown",
      "metadata": {
        "id": "OkPMXJ0ZlwF9"
      },
      "source": [
        "Quá trình được hiển thị trong hình:"
      ]
    },
    {
      "cell_type": "markdown",
      "metadata": {
        "id": "FKBNvRi_lwF-"
      },
      "source": [
        "<img src = \"https://s3-api.us-geo.objectstorage.softlayer.net/cf-courses-data/CognitiveClass/PY0101EN/Chapter%204/Images/DataEgTwo.png\" width=\"1100\" />"
      ]
    },
    {
      "cell_type": "markdown",
      "metadata": {
        "id": "KFBrD3BtlwF-"
      },
      "source": [
        "Một cách để truy cập các phần tử duy nhất là phương thức <code> iloc</code>, bạn có thể truy cập hàng đầu tiên và cột đầu tiên như sau:"
      ]
    },
    {
      "cell_type": "code",
      "execution_count": null,
      "metadata": {
        "id": "h9hNhS96lwF-"
      },
      "outputs": [],
      "source": [
        "# Truy cập giá trị ở hàng và cột đầu tiên\n",
        "\n",
        "df.iloc[0, 0]"
      ]
    },
    {
      "cell_type": "markdown",
      "metadata": {
        "id": "zmxuMyijlwF-"
      },
      "source": [
        "Bạn có thể truy cập hàng thứ 2 và cột đầu tiên như sau:"
      ]
    },
    {
      "cell_type": "code",
      "execution_count": null,
      "metadata": {
        "id": "p5WZxsySlwF-"
      },
      "outputs": [],
      "source": [
        "# Truy cập giá trị ở hàng thứ hai và cột đầu tiên\n",
        "\n",
        "df.iloc[1,0]"
      ]
    },
    {
      "cell_type": "markdown",
      "metadata": {
        "id": "2ABcH-relwF_"
      },
      "source": [
        "Bạn có thể truy cập hàng đầu tiên và cột thứ 3 như sau:"
      ]
    },
    {
      "cell_type": "code",
      "execution_count": null,
      "metadata": {
        "id": "f1BidieHlwF_"
      },
      "outputs": [],
      "source": [
        "# Truy cập giá trị ở hàng đầu tiên và cột thứ ba\n",
        "\n",
        "df.iloc[0,2]"
      ]
    },
    {
      "cell_type": "markdown",
      "metadata": {
        "id": "y_5cXemylwF_"
      },
      "source": [
        "Bạn cũng có thể truy cập cột bằng cách sử dụng tên, các mục sau giống như trên:"
      ]
    },
    {
      "cell_type": "code",
      "execution_count": null,
      "metadata": {
        "id": "OyfwNFr-lwF_"
      },
      "outputs": [],
      "source": [
        "# Truy cập cột sử dụng tên\n",
        "\n",
        "df.loc[0, 'Artist']"
      ]
    },
    {
      "cell_type": "code",
      "execution_count": null,
      "metadata": {
        "id": "3H8SpZ6ZlwF_"
      },
      "outputs": [],
      "source": [
        "# Truy cập cột sử dụng tên\n",
        "\n",
        "df.loc[1, 'Artist']"
      ]
    },
    {
      "cell_type": "code",
      "execution_count": null,
      "metadata": {
        "id": "rZBekudClwGA"
      },
      "outputs": [],
      "source": [
        "# Truy cập cột sử dụng tên\n",
        "\n",
        "df.loc[0, 'Released']"
      ]
    },
    {
      "cell_type": "code",
      "execution_count": null,
      "metadata": {
        "id": "V5v6SIr7lwGA"
      },
      "outputs": [],
      "source": [
        "# Truy cập cột sử dụng tên\n",
        "\n",
        "df.loc[1, 'Released']"
      ]
    },
    {
      "cell_type": "markdown",
      "metadata": {
        "id": "r7WTajwslwGA"
      },
      "source": [
        "Bạn có thể thực hiện slicing bằng cách sử dụng cả chỉ mục và tên của cột:"
      ]
    },
    {
      "cell_type": "code",
      "execution_count": null,
      "metadata": {
        "id": "JmPCaqbGlwGA"
      },
      "outputs": [],
      "source": [
        "# Slicing dataframe\n",
        "\n",
        "df.iloc[0:2, 0:3]"
      ]
    },
    {
      "cell_type": "code",
      "execution_count": null,
      "metadata": {
        "id": "LbwsduJXlwGB"
      },
      "outputs": [],
      "source": [
        "# Slicing dataframe sử dụng tên\n",
        "\n",
        "df.loc[0:2, 'Artist':'Released']"
      ]
    },
    {
      "cell_type": "markdown",
      "metadata": {
        "id": "m1XNH-FNlwGB"
      },
      "source": [
        "<hr>"
      ]
    },
    {
      "cell_type": "markdown",
      "metadata": {
        "id": "IhJQnUK7lwGB"
      },
      "source": [
        "##<h2 id=\"quiz\">Quiz về dataframe</h2>"
      ]
    },
    {
      "cell_type": "markdown",
      "metadata": {
        "id": "pesi5IyMlwGB"
      },
      "source": [
        "Sử dụng biến <code> q</code> để lưu cột <b>Rating</b> dưới dạng dataframe"
      ]
    },
    {
      "cell_type": "code",
      "execution_count": 12,
      "metadata": {
        "id": "i8YLne93lwGB"
      },
      "outputs": [
        {
          "data": {
            "text/html": [
              "<div>\n",
              "<style scoped>\n",
              "    .dataframe tbody tr th:only-of-type {\n",
              "        vertical-align: middle;\n",
              "    }\n",
              "\n",
              "    .dataframe tbody tr th {\n",
              "        vertical-align: top;\n",
              "    }\n",
              "\n",
              "    .dataframe thead th {\n",
              "        text-align: right;\n",
              "    }\n",
              "</style>\n",
              "<table border=\"1\" class=\"dataframe\">\n",
              "  <thead>\n",
              "    <tr style=\"text-align: right;\">\n",
              "      <th></th>\n",
              "      <th>Rating</th>\n",
              "    </tr>\n",
              "  </thead>\n",
              "  <tbody>\n",
              "    <tr>\n",
              "      <th>0</th>\n",
              "      <td>10.0</td>\n",
              "    </tr>\n",
              "    <tr>\n",
              "      <th>1</th>\n",
              "      <td>9.5</td>\n",
              "    </tr>\n",
              "    <tr>\n",
              "      <th>2</th>\n",
              "      <td>9.0</td>\n",
              "    </tr>\n",
              "    <tr>\n",
              "      <th>3</th>\n",
              "      <td>8.5</td>\n",
              "    </tr>\n",
              "    <tr>\n",
              "      <th>4</th>\n",
              "      <td>8.0</td>\n",
              "    </tr>\n",
              "    <tr>\n",
              "      <th>5</th>\n",
              "      <td>7.5</td>\n",
              "    </tr>\n",
              "    <tr>\n",
              "      <th>6</th>\n",
              "      <td>7.0</td>\n",
              "    </tr>\n",
              "    <tr>\n",
              "      <th>7</th>\n",
              "      <td>6.5</td>\n",
              "    </tr>\n",
              "  </tbody>\n",
              "</table>\n",
              "</div>"
            ],
            "text/plain": [
              "   Rating\n",
              "0    10.0\n",
              "1     9.5\n",
              "2     9.0\n",
              "3     8.5\n",
              "4     8.0\n",
              "5     7.5\n",
              "6     7.0\n",
              "7     6.5"
            ]
          },
          "execution_count": 12,
          "metadata": {},
          "output_type": "execute_result"
        }
      ],
      "source": [
        "# Viết code của bạn xuống đây và nhấn Shift+Enter để thực hiện\n",
        "\n",
        "q = df[['Rating']]\n",
        "q"
      ]
    },
    {
      "cell_type": "markdown",
      "metadata": {
        "id": "1kSPJh4DlwGC"
      },
      "source": [
        "Click __vào đây__ để xem lời giải.\n",
        "\n",
        "<!-- Đáp án dưới đây:\n",
        "q = df[['Rating']]\n",
        "q\n",
        "-->"
      ]
    },
    {
      "cell_type": "markdown",
      "metadata": {
        "id": "N3qbaE-MlwGC"
      },
      "source": [
        "Gán biến <code> q</code> cho dataframe được tạo thành từ cột <b>Released</b> và <b>Artist</b>:"
      ]
    },
    {
      "cell_type": "code",
      "execution_count": 14,
      "metadata": {
        "id": "KQPha6nflwGC"
      },
      "outputs": [
        {
          "data": {
            "text/html": [
              "<div>\n",
              "<style scoped>\n",
              "    .dataframe tbody tr th:only-of-type {\n",
              "        vertical-align: middle;\n",
              "    }\n",
              "\n",
              "    .dataframe tbody tr th {\n",
              "        vertical-align: top;\n",
              "    }\n",
              "\n",
              "    .dataframe thead th {\n",
              "        text-align: right;\n",
              "    }\n",
              "</style>\n",
              "<table border=\"1\" class=\"dataframe\">\n",
              "  <thead>\n",
              "    <tr style=\"text-align: right;\">\n",
              "      <th></th>\n",
              "      <th>Released</th>\n",
              "      <th>Artist</th>\n",
              "    </tr>\n",
              "  </thead>\n",
              "  <tbody>\n",
              "    <tr>\n",
              "      <th>0</th>\n",
              "      <td>1982</td>\n",
              "      <td>Michael Jackson</td>\n",
              "    </tr>\n",
              "    <tr>\n",
              "      <th>1</th>\n",
              "      <td>1980</td>\n",
              "      <td>AC/DC</td>\n",
              "    </tr>\n",
              "    <tr>\n",
              "      <th>2</th>\n",
              "      <td>1973</td>\n",
              "      <td>Pink Floyd</td>\n",
              "    </tr>\n",
              "    <tr>\n",
              "      <th>3</th>\n",
              "      <td>1992</td>\n",
              "      <td>Whitney Houston</td>\n",
              "    </tr>\n",
              "    <tr>\n",
              "      <th>4</th>\n",
              "      <td>1977</td>\n",
              "      <td>Meat Loaf</td>\n",
              "    </tr>\n",
              "    <tr>\n",
              "      <th>5</th>\n",
              "      <td>1976</td>\n",
              "      <td>Eagles</td>\n",
              "    </tr>\n",
              "    <tr>\n",
              "      <th>6</th>\n",
              "      <td>1977</td>\n",
              "      <td>Bee Gees</td>\n",
              "    </tr>\n",
              "    <tr>\n",
              "      <th>7</th>\n",
              "      <td>1977</td>\n",
              "      <td>Fleetwood Mac</td>\n",
              "    </tr>\n",
              "  </tbody>\n",
              "</table>\n",
              "</div>"
            ],
            "text/plain": [
              "   Released           Artist\n",
              "0      1982  Michael Jackson\n",
              "1      1980            AC/DC\n",
              "2      1973       Pink Floyd\n",
              "3      1992  Whitney Houston\n",
              "4      1977        Meat Loaf\n",
              "5      1976           Eagles\n",
              "6      1977         Bee Gees\n",
              "7      1977    Fleetwood Mac"
            ]
          },
          "execution_count": 14,
          "metadata": {},
          "output_type": "execute_result"
        }
      ],
      "source": [
        "# Viết code của bạn xuống đây và nhấn Shift+Enter để thực hiện\n",
        "\n",
        "q = df[['Released', 'Artist']]\n",
        "q"
      ]
    },
    {
      "cell_type": "markdown",
      "metadata": {
        "id": "yuIX6_E5lwGC"
      },
      "source": [
        "Click __vào đây__ để xem lời giải.\n",
        "\n",
        "<!-- Đáp án dưới đây:\n",
        "q = df[['Released', 'Artist']]\n",
        "q\n",
        "-->"
      ]
    },
    {
      "cell_type": "markdown",
      "metadata": {
        "id": "--GPZYlKlwGD"
      },
      "source": [
        "Truy cập hàng thứ 2 và cột thứ 3 của <code> df</code>:"
      ]
    },
    {
      "cell_type": "code",
      "execution_count": 16,
      "metadata": {
        "id": "BbrS1q7elwGD"
      },
      "outputs": [
        {
          "data": {
            "text/plain": [
              "'0:42:49'"
            ]
          },
          "execution_count": 16,
          "metadata": {},
          "output_type": "execute_result"
        }
      ],
      "source": [
        "# Viết code của bạn xuống đây và nhấn Shift+Enter để thực hiện\n",
        "df.iloc[2,3]"
      ]
    },
    {
      "cell_type": "markdown",
      "metadata": {
        "id": "_3rNzJg2lwGD"
      },
      "source": [
        "Click __vào đây__ để xem lời giải.\n",
        "\n",
        "<!-- Đáp án dưới đây:\n",
        "df.iloc[1, 2]\n",
        "-->"
      ]
    }
  ],
  "metadata": {
    "anaconda-cloud": {},
    "colab": {
      "provenance": []
    },
    "kernelspec": {
      "display_name": "Python 3",
      "language": "python",
      "name": "python3"
    },
    "language_info": {
      "codemirror_mode": {
        "name": "ipython",
        "version": 3
      },
      "file_extension": ".py",
      "mimetype": "text/x-python",
      "name": "python",
      "nbconvert_exporter": "python",
      "pygments_lexer": "ipython3",
      "version": "3.11.4"
    }
  },
  "nbformat": 4,
  "nbformat_minor": 0
}
